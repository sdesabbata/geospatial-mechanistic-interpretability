{
 "cells": [
  {
   "cell_type": "code",
   "execution_count": null,
   "metadata": {},
   "outputs": [],
   "source": [
    "import pandas as pd\n",
    "import geopandas as gpd\n",
    "\n",
    "import numpy as np\n",
    "import mapclassify\n",
    "import matplotlib.pyplot as plt\n",
    "from matplotlib.colors import BoundaryNorm"
   ]
  },
  {
   "cell_type": "markdown",
   "metadata": {},
   "source": [
    "## Load data"
   ]
  },
  {
   "cell_type": "code",
   "execution_count": null,
   "metadata": {},
   "outputs": [],
   "source": [
    "feat_gb_l15 = pd.read_parquet('../storage/GB_features_sae_l15-GB-IT-NY_to32768top2048_300epochs_nonzero.parquet')\n",
    "feat_it_l15 = pd.read_parquet('../storage/IT_features_sae_l15-GB-IT-NY_to32768top2048_300epochs_nonzero.parquet')\n",
    "feat_ny_l15 = pd.read_parquet('../storage/NYmetro_features_sae_l15-GB-IT-NY_to32768top2048_300epochs_nonzero.parquet')\n",
    "# feat_gb_l15.head()"
   ]
  },
  {
   "cell_type": "markdown",
   "metadata": {},
   "source": [
    "## Preprare columns"
   ]
  },
  {
   "cell_type": "code",
   "execution_count": null,
   "metadata": {},
   "outputs": [],
   "source": [
    "feat_gb_l15['geometry'] = gpd.points_from_xy(feat_gb_l15['longitude'], feat_gb_l15['latitude'], crs=\"EPSG:4326\")\n",
    "feat_gb_l15_gdf = gpd.GeoDataFrame(feat_gb_l15, geometry='geometry')\n",
    "\n",
    "feat_it_l15['geometry'] = gpd.points_from_xy(feat_it_l15['longitude'], feat_it_l15['latitude'], crs=\"EPSG:4326\")\n",
    "feat_it_l15_gdf = gpd.GeoDataFrame(feat_it_l15, geometry='geometry')\n",
    "\n",
    "feat_ny_l15['geometry'] = gpd.points_from_xy(feat_ny_l15['longitude'], feat_ny_l15['latitude'], crs=\"EPSG:4326\")\n",
    "feat_ny_l15_gdf = gpd.GeoDataFrame(feat_ny_l15, geometry='geometry')"
   ]
  },
  {
   "cell_type": "markdown",
   "metadata": {},
   "source": [
    "## Maps"
   ]
  },
  {
   "cell_type": "markdown",
   "metadata": {},
   "source": [
    "### Layer 15 Feature 21931"
   ]
  },
  {
   "cell_type": "code",
   "execution_count": null,
   "metadata": {},
   "outputs": [],
   "source": [
    "print(f'{feat_gb_l15_gdf['saef021931'].min()=:.3f}, {feat_gb_l15_gdf['saef021931'].max()=:.3f}')\n",
    "print(f'{feat_it_l15_gdf['saef021931'].min()=:.3f}, {feat_it_l15_gdf['saef021931'].max()=:.3f}')\n",
    "print(f'{feat_ny_l15_gdf['saef021931'].min()=:.3f}, {feat_ny_l15_gdf['saef021931'].max()=:.3f}')"
   ]
  },
  {
   "cell_type": "code",
   "execution_count": null,
   "metadata": {},
   "outputs": [],
   "source": [
    "feat_gb_021931 = feat_gb_l15_gdf['saef021931'].values.tolist()\n",
    "feat_it_021931 = feat_it_l15_gdf['saef021931'].values.tolist()\n",
    "feat_ny_021931 = feat_ny_l15_gdf['saef021931'].values.tolist()\n",
    "\n",
    "combined_values_021931     = np.array(feat_gb_021931 + feat_it_021931 + feat_ny_021931)\n",
    "combined_values_021931_min = combined_values_021931.min()\n",
    "\n",
    "jenks_021931  = mapclassify.NaturalBreaks(combined_values_021931, k=9)\n",
    "breaks_021931 = jenks_021931.bins\n",
    "breaks_021931 = np.insert(breaks_021931, 0, combined_values_021931_min)\n",
    "breaks_021931"
   ]
  },
  {
   "cell_type": "code",
   "execution_count": null,
   "metadata": {},
   "outputs": [],
   "source": [
    "feat_gb_l15_gdf.explore(\n",
    "    'saef021931', \n",
    "    cmap='viridis', \n",
    "    marker_type=\"circle_marker\",\n",
    "    scheme='UserDefined', \n",
    "    classification_kwds={\"bins\": breaks_021931}, \n",
    "    legend_kwds={'interval': True},\n",
    "    marker_kwds={\"radius\": 3, \"fill\": True, \"fillOpacity\": 0.8, \"stroke\": False},\n",
    "    tooltip=[\"saef021931\", \"prompt\"],\n",
    "    tiles=\"CartoDB positron\"\n",
    ")"
   ]
  },
  {
   "cell_type": "code",
   "execution_count": null,
   "metadata": {},
   "outputs": [],
   "source": [
    "feat_it_l15_gdf.explore(\n",
    "    'saef021931', \n",
    "    cmap='viridis', \n",
    "    marker_type=\"circle_marker\",\n",
    "    scheme='UserDefined', \n",
    "    classification_kwds={\"bins\": breaks_021931}, \n",
    "    legend_kwds={'interval': True},\n",
    "    marker_kwds={\"radius\": 3, \"fill\": True, \"fillOpacity\": 0.8, \"stroke\": False},\n",
    "    tooltip=[\"saef021931\", \"prompt\"],\n",
    "    tiles=\"CartoDB positron\"\n",
    ")"
   ]
  },
  {
   "cell_type": "code",
   "execution_count": null,
   "metadata": {},
   "outputs": [],
   "source": [
    "feat_ny_l15_gdf.explore(\n",
    "    'saef021931', \n",
    "    cmap='viridis', \n",
    "    marker_type=\"circle_marker\",\n",
    "    scheme='UserDefined', \n",
    "    classification_kwds={\"bins\": breaks_021931}, \n",
    "    legend_kwds={'interval': True},\n",
    "    marker_kwds={\"radius\": 3, \"fill\": True, \"fillOpacity\": 0.8, \"stroke\": False},\n",
    "    tooltip=[\"saef021931\", \"prompt\"],\n",
    "    tiles=\"CartoDB positron\"\n",
    ")"
   ]
  },
  {
   "cell_type": "markdown",
   "metadata": {},
   "source": [
    "### Layer 15 Feature 1473"
   ]
  },
  {
   "cell_type": "code",
   "execution_count": null,
   "metadata": {},
   "outputs": [],
   "source": [
    "print(f'{feat_gb_l15_gdf['saef001473'].min()=:.3f}, {feat_gb_l15_gdf['saef001473'].max()=:.3f}')\n",
    "print(f'{feat_it_l15_gdf['saef001473'].min()=:.3f}, {feat_it_l15_gdf['saef001473'].max()=:.3f}')\n",
    "print(f'{feat_ny_l15_gdf['saef001473'].min()=:.3f}, {feat_ny_l15_gdf['saef001473'].max()=:.3f}')"
   ]
  },
  {
   "cell_type": "code",
   "execution_count": null,
   "metadata": {},
   "outputs": [],
   "source": [
    "feat_gb_001473 = feat_gb_l15_gdf['saef001473'].values.tolist()\n",
    "feat_it_001473 = feat_it_l15_gdf['saef001473'].values.tolist()\n",
    "feat_ny_001473 = feat_ny_l15_gdf['saef001473'].values.tolist()\n",
    "\n",
    "combined_values_001473     = np.array(feat_gb_001473 + feat_it_001473 + feat_ny_001473)\n",
    "combined_values_001473_min = combined_values_001473.min()\n",
    "\n",
    "jenks_001473  = mapclassify.NaturalBreaks(combined_values_001473, k=9)\n",
    "breaks_001473 = jenks_001473.bins\n",
    "breaks_001473 = np.insert(breaks_001473, 0, combined_values_001473_min)\n",
    "breaks_001473"
   ]
  },
  {
   "cell_type": "code",
   "execution_count": null,
   "metadata": {},
   "outputs": [],
   "source": [
    "feat_gb_l15_gdf.explore(\n",
    "    'saef001473', \n",
    "    cmap='viridis', \n",
    "    marker_type=\"circle_marker\",\n",
    "    scheme='UserDefined', \n",
    "    classification_kwds={\"bins\": breaks_001473}, \n",
    "    legend_kwds={'interval': True},\n",
    "    marker_kwds={\"radius\": 3, \"fill\": True, \"fillOpacity\": 0.8, \"stroke\": False},\n",
    "    tooltip=[\"saef001473\", \"prompt\"],\n",
    "    tiles=\"CartoDB positron\"\n",
    ")"
   ]
  },
  {
   "cell_type": "code",
   "execution_count": null,
   "metadata": {},
   "outputs": [],
   "source": [
    "feat_it_l15_gdf.explore(\n",
    "    'saef001473', \n",
    "    cmap='viridis', \n",
    "    marker_type=\"circle_marker\",\n",
    "    scheme='UserDefined', \n",
    "    classification_kwds={\"bins\": breaks_001473}, \n",
    "    legend_kwds={'interval': True},\n",
    "    marker_kwds={\"radius\": 3, \"fill\": True, \"fillOpacity\": 0.8, \"stroke\": False},\n",
    "    tooltip=[\"saef001473\", \"prompt\"],\n",
    "    tiles=\"CartoDB positron\"\n",
    ")"
   ]
  },
  {
   "cell_type": "code",
   "execution_count": null,
   "metadata": {},
   "outputs": [],
   "source": [
    "feat_ny_l15_gdf.explore(\n",
    "    'saef001473', \n",
    "    cmap='viridis', \n",
    "    marker_type=\"circle_marker\",\n",
    "    scheme='UserDefined', \n",
    "    classification_kwds={\"bins\": breaks_001473}, \n",
    "    legend_kwds={'interval': True},\n",
    "    marker_kwds={\"radius\": 3, \"fill\": True, \"fillOpacity\": 0.8, \"stroke\": False},\n",
    "    tooltip=[\"saef001473\", \"prompt\"],\n",
    "    tiles=\"CartoDB positron\"\n",
    ")"
   ]
  },
  {
   "cell_type": "markdown",
   "metadata": {},
   "source": [
    "### Layer 15 Feature 25085"
   ]
  },
  {
   "cell_type": "code",
   "execution_count": null,
   "metadata": {},
   "outputs": [],
   "source": [
    "print(f'{feat_gb_l15_gdf['saef025085'].min()=:.3f}, {feat_gb_l15_gdf['saef025085'].max()=:.3f}')\n",
    "print(f'{feat_it_l15_gdf['saef025085'].min()=:.3f}, {feat_it_l15_gdf['saef025085'].max()=:.3f}')\n",
    "print(f'{feat_ny_l15_gdf['saef025085'].min()=:.3f}, {feat_ny_l15_gdf['saef025085'].max()=:.3f}')"
   ]
  },
  {
   "cell_type": "code",
   "execution_count": null,
   "metadata": {},
   "outputs": [],
   "source": [
    "feat_gb_025085 = feat_gb_l15_gdf['saef025085'].values.tolist()\n",
    "feat_it_025085 = feat_it_l15_gdf['saef025085'].values.tolist()\n",
    "feat_ny_025085 = feat_ny_l15_gdf['saef025085'].values.tolist()\n",
    "\n",
    "combined_values_025085     = np.array(feat_gb_025085 + feat_it_025085 + feat_ny_025085)\n",
    "combined_values_025085_min = combined_values_025085.min()\n",
    "\n",
    "jenks_025085  = mapclassify.NaturalBreaks(combined_values_025085, k=9)\n",
    "breaks_025085 = jenks_025085.bins\n",
    "breaks_025085 = np.insert(breaks_025085, 0, combined_values_025085_min)\n",
    "breaks_025085"
   ]
  },
  {
   "cell_type": "code",
   "execution_count": null,
   "metadata": {},
   "outputs": [],
   "source": [
    "feat_gb_l15_gdf.explore(\n",
    "    'saef025085', \n",
    "    cmap='viridis', \n",
    "    marker_type=\"circle_marker\",\n",
    "    scheme='UserDefined', \n",
    "    classification_kwds={\"bins\": breaks_025085}, \n",
    "    legend_kwds={'interval': True},\n",
    "    marker_kwds={\"radius\": 3, \"fill\": True, \"fillOpacity\": 0.8, \"stroke\": False},\n",
    "    tooltip=[\"saef025085\", \"prompt\"],\n",
    "    tiles=\"CartoDB positron\"\n",
    ")"
   ]
  },
  {
   "cell_type": "code",
   "execution_count": null,
   "metadata": {},
   "outputs": [],
   "source": [
    "feat_it_l15_gdf.explore(\n",
    "    'saef025085', \n",
    "    cmap='viridis', \n",
    "    marker_type=\"circle_marker\",\n",
    "    scheme='UserDefined', \n",
    "    classification_kwds={\"bins\": breaks_025085}, \n",
    "    legend_kwds={'interval': True},\n",
    "    marker_kwds={\"radius\": 3, \"fill\": True, \"fillOpacity\": 0.8, \"stroke\": False},\n",
    "    tooltip=[\"saef025085\", \"prompt\"],\n",
    "    tiles=\"CartoDB positron\"\n",
    ")"
   ]
  },
  {
   "cell_type": "code",
   "execution_count": null,
   "metadata": {},
   "outputs": [],
   "source": [
    "feat_ny_l15_gdf.explore(\n",
    "    'saef025085', \n",
    "    cmap='viridis', \n",
    "    marker_type=\"circle_marker\",\n",
    "    scheme='UserDefined', \n",
    "    classification_kwds={\"bins\": breaks_025085}, \n",
    "    legend_kwds={'interval': True},\n",
    "    marker_kwds={\"radius\": 3, \"fill\": True, \"fillOpacity\": 0.8, \"stroke\": False},\n",
    "    tooltip=[\"saef025085\", \"prompt\"],\n",
    "    tiles=\"CartoDB positron\"\n",
    ")"
   ]
  },
  {
   "cell_type": "markdown",
   "metadata": {},
   "source": [
    "### Layer 15 Feature 6239"
   ]
  },
  {
   "cell_type": "code",
   "execution_count": null,
   "metadata": {},
   "outputs": [],
   "source": [
    "print(f'{feat_gb_l15_gdf['saef006239'].min()=:.3f}, {feat_gb_l15_gdf['saef006239'].max()=:.3f}')\n",
    "print(f'{feat_it_l15_gdf['saef006239'].min()=:.3f}, {feat_it_l15_gdf['saef006239'].max()=:.3f}')\n",
    "print(f'{feat_ny_l15_gdf['saef006239'].min()=:.3f}, {feat_ny_l15_gdf['saef006239'].max()=:.3f}')"
   ]
  },
  {
   "cell_type": "code",
   "execution_count": null,
   "metadata": {},
   "outputs": [],
   "source": [
    "feat_gb_006239 = feat_gb_l15_gdf['saef006239'].values.tolist()\n",
    "feat_it_006239 = feat_it_l15_gdf['saef006239'].values.tolist()\n",
    "feat_ny_006239 = feat_ny_l15_gdf['saef006239'].values.tolist()\n",
    "\n",
    "combined_values_006239     = np.array(feat_gb_006239 + feat_it_006239 + feat_ny_006239)\n",
    "combined_values_006239_min = combined_values_006239.min()\n",
    "\n",
    "jenks_006239  = mapclassify.NaturalBreaks(combined_values_006239, k=9)\n",
    "breaks_006239 = jenks_006239.bins\n",
    "breaks_006239 = np.insert(breaks_006239, 0, combined_values_006239_min)\n",
    "breaks_006239"
   ]
  },
  {
   "cell_type": "code",
   "execution_count": null,
   "metadata": {},
   "outputs": [],
   "source": [
    "feat_gb_l15_gdf.explore(\n",
    "    'saef006239', \n",
    "    cmap='viridis', \n",
    "    marker_type=\"circle_marker\",\n",
    "    scheme='UserDefined', \n",
    "    classification_kwds={\"bins\": breaks_006239}, \n",
    "    legend_kwds={'interval': True},\n",
    "    marker_kwds={\"radius\": 3, \"fill\": True, \"fillOpacity\": 0.8, \"stroke\": False},\n",
    "    tooltip=[\"saef006239\", \"prompt\"],\n",
    "    tiles=\"CartoDB positron\"\n",
    ")"
   ]
  },
  {
   "cell_type": "code",
   "execution_count": null,
   "metadata": {},
   "outputs": [],
   "source": [
    "feat_it_l15_gdf.explore(\n",
    "    'saef006239', \n",
    "    cmap='viridis', \n",
    "    marker_type=\"circle_marker\",\n",
    "    scheme='UserDefined', \n",
    "    classification_kwds={\"bins\": breaks_006239}, \n",
    "    legend_kwds={'interval': True},\n",
    "    marker_kwds={\"radius\": 3, \"fill\": True, \"fillOpacity\": 0.8, \"stroke\": False},\n",
    "    tooltip=[\"saef006239\", \"prompt\"],\n",
    "    tiles=\"CartoDB positron\"\n",
    ")"
   ]
  },
  {
   "cell_type": "code",
   "execution_count": null,
   "metadata": {},
   "outputs": [],
   "source": [
    "feat_ny_l15_gdf.explore(\n",
    "    'saef006239', \n",
    "    cmap='viridis', \n",
    "    marker_type=\"circle_marker\",\n",
    "    scheme='UserDefined', \n",
    "    classification_kwds={\"bins\": breaks_006239}, \n",
    "    legend_kwds={'interval': True},\n",
    "    marker_kwds={\"radius\": 3, \"fill\": True, \"fillOpacity\": 0.8, \"stroke\": False},\n",
    "    tooltip=[\"saef006239\", \"prompt\"],\n",
    "    tiles=\"CartoDB positron\"\n",
    ")"
   ]
  }
 ],
 "metadata": {
  "kernelspec": {
   "display_name": "gds",
   "language": "python",
   "name": "python3"
  },
  "language_info": {
   "codemirror_mode": {
    "name": "ipython",
    "version": 3
   },
   "file_extension": ".py",
   "mimetype": "text/x-python",
   "name": "python",
   "nbconvert_exporter": "python",
   "pygments_lexer": "ipython3",
   "version": "3.12.9"
  }
 },
 "nbformat": 4,
 "nbformat_minor": 2
}
