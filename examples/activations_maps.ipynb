{
 "cells": [
  {
   "cell_type": "code",
   "execution_count": null,
   "metadata": {},
   "outputs": [],
   "source": [
    "import pandas as pd\n",
    "import geopandas as gpd\n",
    "\n",
    "import numpy as np\n",
    "import mapclassify\n",
    "import matplotlib.pyplot as plt\n",
    "from matplotlib.colors import BoundaryNorm"
   ]
  },
  {
   "cell_type": "markdown",
   "metadata": {},
   "source": [
    "## Load data"
   ]
  },
  {
   "cell_type": "code",
   "execution_count": null,
   "metadata": {},
   "outputs": [],
   "source": [
    "gb_results_df = pd.read_pickle('../storage/activations_GB.pkl')\n",
    "gb_places_df  = pd.read_csv('../storage/geonames_GB.csv')\n",
    "gb_results_df = gb_results_df.merge(gb_places_df, on='geonameid', how='inner')\n",
    "# gb_results_df.head()\n",
    "\n",
    "it_results_df = pd.read_pickle('../storage/activations_IT.pkl')\n",
    "it_places_df  = pd.read_csv('../storage/geonames_IT.csv')\n",
    "it_results_df = it_results_df.merge(it_places_df, on='geonameid', how='inner')\n",
    "# it_results_df.head()\n",
    "\n",
    "ny_results_df = pd.read_pickle('../storage/activations_NYmetro.pkl')\n",
    "ny_places_df  = pd.read_csv('../storage/geonames_NYmetro.csv')\n",
    "ny_results_df = ny_results_df.merge(ny_places_df, on='geonameid', how='inner')\n",
    "# ny_results_df.head()"
   ]
  },
  {
   "cell_type": "markdown",
   "metadata": {},
   "source": [
    "## Preprare columns"
   ]
  },
  {
   "cell_type": "code",
   "execution_count": null,
   "metadata": {},
   "outputs": [],
   "source": [
    "gb_l07 = gb_results_df[(gb_results_df['layer']==7)].copy()\n",
    "gb_l07['geometry'] = gpd.points_from_xy(gb_l07['longitude'], gb_l07['latitude'], crs=\"EPSG:4326\")\n",
    "gb_l07_gdf = gpd.GeoDataFrame(gb_l07, geometry='geometry')\n",
    "gb_l07_gdf['a497'] = gb_l07_gdf['mean_pooling'].apply(lambda x: x[0][497])\n",
    "\n",
    "it_l07 = it_results_df[(it_results_df['layer']==7)].copy()\n",
    "it_l07['geometry'] = gpd.points_from_xy(it_l07['longitude'], it_l07['latitude'], crs=\"EPSG:4326\")\n",
    "it_l07_gdf = gpd.GeoDataFrame(it_l07, geometry='geometry')\n",
    "it_l07_gdf['a497'] = it_l07_gdf['mean_pooling'].apply(lambda x: x[0][497])\n",
    "\n",
    "ny_l07 = ny_results_df[(ny_results_df['layer']==7)].copy()\n",
    "ny_l07['geometry'] = gpd.points_from_xy(ny_l07['longitude'], ny_l07['latitude'], crs=\"EPSG:4326\")\n",
    "ny_l07_gdf = gpd.GeoDataFrame(ny_l07, geometry='geometry')\n",
    "ny_l07_gdf['a497'] = ny_l07_gdf['mean_pooling'].apply(lambda x: x[0][497])"
   ]
  },
  {
   "cell_type": "code",
   "execution_count": null,
   "metadata": {},
   "outputs": [],
   "source": [
    "gb_l15 = gb_results_df[(gb_results_df['layer']==15)].copy()\n",
    "gb_l15['geometry'] = gpd.points_from_xy(gb_l15['longitude'], gb_l15['latitude'], crs=\"EPSG:4326\")\n",
    "gb_l15_gdf = gpd.GeoDataFrame(gb_l15, geometry='geometry')\n",
    "gb_l15_gdf['a497'] = gb_l15_gdf['mean_pooling'].apply(lambda x: x[0][497])\n",
    "gb_l15_gdf['a1657'] = gb_l15_gdf['mean_pooling'].apply(lambda x: x[0][1657])\n",
    "\n",
    "it_l15 = it_results_df[(it_results_df['layer']==15)].copy()\n",
    "it_l15['geometry'] = gpd.points_from_xy(it_l15['longitude'], it_l15['latitude'], crs=\"EPSG:4326\")\n",
    "it_l15_gdf = gpd.GeoDataFrame(it_l15, geometry='geometry')\n",
    "it_l15_gdf['a497'] = it_l15_gdf['mean_pooling'].apply(lambda x: x[0][497])\n",
    "it_l15_gdf['a1657'] = it_l15_gdf['mean_pooling'].apply(lambda x: x[0][1657])\n",
    "\n",
    "ny_l15 = ny_results_df[(ny_results_df['layer']==15)].copy()\n",
    "ny_l15['geometry'] = gpd.points_from_xy(ny_l15['longitude'], ny_l15['latitude'], crs=\"EPSG:4326\")\n",
    "ny_l15_gdf = gpd.GeoDataFrame(ny_l15, geometry='geometry')\n",
    "ny_l15_gdf['a497'] = ny_l15_gdf['mean_pooling'].apply(lambda x: x[0][497])\n",
    "ny_l15_gdf['a1657'] = ny_l15_gdf['mean_pooling'].apply(lambda x: x[0][1657])"
   ]
  },
  {
   "cell_type": "code",
   "execution_count": null,
   "metadata": {},
   "outputs": [],
   "source": [
    "gb_l31 = gb_results_df[(gb_results_df['layer']==31)].copy()\n",
    "gb_l31['geometry'] = gpd.points_from_xy(gb_l31['longitude'], gb_l31['latitude'], crs=\"EPSG:4326\")\n",
    "gb_l31_gdf = gpd.GeoDataFrame(gb_l31, geometry='geometry')\n",
    "gb_l31_gdf['a1010'] = gb_l31_gdf['mean_pooling'].apply(lambda x: x[0][1010])\n",
    "\n",
    "it_l31 = it_results_df[(it_results_df['layer']==31)].copy()\n",
    "it_l31['geometry'] = gpd.points_from_xy(it_l31['longitude'], it_l31['latitude'], crs=\"EPSG:4326\")\n",
    "it_l31_gdf = gpd.GeoDataFrame(it_l31, geometry='geometry')\n",
    "it_l31_gdf['a1010'] = it_l31_gdf['mean_pooling'].apply(lambda x: x[0][1010])\n",
    "\n",
    "ny_l31 = ny_results_df[(ny_results_df['layer']==31)].copy()\n",
    "ny_l31['geometry'] = gpd.points_from_xy(ny_l31['longitude'], ny_l31['latitude'], crs=\"EPSG:4326\")\n",
    "ny_l31_gdf = gpd.GeoDataFrame(ny_l31, geometry='geometry')\n",
    "ny_l31_gdf['a1010'] = ny_l31_gdf['mean_pooling'].apply(lambda x: x[0][1010])"
   ]
  },
  {
   "cell_type": "markdown",
   "metadata": {},
   "source": [
    "## Maps"
   ]
  },
  {
   "cell_type": "markdown",
   "metadata": {},
   "source": [
    "### Layer 07 Activation 497"
   ]
  },
  {
   "cell_type": "code",
   "execution_count": null,
   "metadata": {},
   "outputs": [],
   "source": [
    "print(f'{gb_l07_gdf['a497'].min()=:.3f}, {gb_l07_gdf['a497'].max()=:.3f}')\n",
    "print(f'{it_l07_gdf['a497'].min()=:.3f}, {it_l07_gdf['a497'].max()=:.3f}')\n",
    "print(f'{ny_l07_gdf['a497'].min()=:.3f}, {ny_l07_gdf['a497'].max()=:.3f}')"
   ]
  },
  {
   "cell_type": "code",
   "execution_count": null,
   "metadata": {},
   "outputs": [],
   "source": [
    "amp_gb_l07_a497 = gb_l07_gdf['a497'].values.tolist()\n",
    "amp_it_l07_a497 = it_l07_gdf['a497'].values.tolist()\n",
    "amp_ny_l07_a497 = ny_l07_gdf['a497'].values.tolist()\n",
    "\n",
    "combined_values_l07_a497     = np.array(amp_gb_l07_a497 + amp_it_l07_a497 + amp_ny_l07_a497)\n",
    "combined_values_l07_a497_min = combined_values_l07_a497.min()\n",
    "\n",
    "jenks_l07_a497  = mapclassify.NaturalBreaks(combined_values_l07_a497, k=9)\n",
    "breaks_l07_a497 = jenks_l07_a497.bins\n",
    "breaks_l07_a497 = np.insert(breaks_l07_a497, 0, combined_values_l07_a497_min)\n",
    "breaks_l07_a497"
   ]
  },
  {
   "cell_type": "code",
   "execution_count": null,
   "metadata": {},
   "outputs": [],
   "source": [
    "gb_l07_gdf.explore(\n",
    "    'a497', \n",
    "    cmap='inferno', \n",
    "    marker_type=\"circle_marker\",\n",
    "    scheme='UserDefined', \n",
    "    classification_kwds={\"bins\": breaks_l07_a497}, \n",
    "    legend_kwds={'interval': True},\n",
    "    marker_kwds={\"radius\": 3, \"fill\": True, \"fillOpacity\": 0.8, \"stroke\": False},\n",
    "    tooltip=[\"a497\", \"prompt\"],\n",
    "    tiles=\"CartoDB positron\"\n",
    ")"
   ]
  },
  {
   "cell_type": "code",
   "execution_count": null,
   "metadata": {},
   "outputs": [],
   "source": [
    "it_l07_gdf.explore(\n",
    "    'a497', \n",
    "    cmap='inferno', \n",
    "    marker_type=\"circle_marker\",\n",
    "    scheme='UserDefined', \n",
    "    classification_kwds={\"bins\": breaks_l07_a497}, \n",
    "    legend_kwds={'interval': True},\n",
    "    marker_kwds={\"radius\": 3, \"fill\": True, \"fillOpacity\": 0.8, \"stroke\": False},\n",
    "    tooltip=[\"a497\", \"prompt\"],\n",
    "    tiles=\"CartoDB positron\"\n",
    ")"
   ]
  },
  {
   "cell_type": "code",
   "execution_count": null,
   "metadata": {},
   "outputs": [],
   "source": [
    "ny_l07_gdf.explore(\n",
    "    'a497', \n",
    "    cmap='inferno', \n",
    "    marker_type=\"circle_marker\",\n",
    "    scheme='UserDefined', \n",
    "    classification_kwds={\"bins\": breaks_l07_a497}, \n",
    "    legend_kwds={'interval': True},\n",
    "    marker_kwds={\"radius\": 3, \"fill\": True, \"fillOpacity\": 0.8, \"stroke\": False},\n",
    "    tooltip=[\"a497\", \"prompt\"],\n",
    "    tiles=\"CartoDB positron\"\n",
    ")"
   ]
  },
  {
   "cell_type": "markdown",
   "metadata": {},
   "source": [
    "### Layer 15 Activation 497"
   ]
  },
  {
   "cell_type": "code",
   "execution_count": null,
   "metadata": {},
   "outputs": [],
   "source": [
    "print(f'{gb_l15_gdf['a497'].min()=:.3f}, {gb_l15_gdf['a497'].max()=:.3f}')\n",
    "print(f'{it_l15_gdf['a497'].min()=:.3f}, {it_l15_gdf['a497'].max()=:.3f}')\n",
    "print(f'{ny_l15_gdf['a497'].min()=:.3f}, {ny_l15_gdf['a497'].max()=:.3f}')"
   ]
  },
  {
   "cell_type": "code",
   "execution_count": null,
   "metadata": {},
   "outputs": [],
   "source": [
    "amp_gb_l15_a497 = gb_l15_gdf['a497'].values.tolist()\n",
    "amp_it_l15_a497 = it_l15_gdf['a497'].values.tolist()\n",
    "amp_ny_l15_a497 = ny_l15_gdf['a497'].values.tolist()\n",
    "\n",
    "combined_values_l15_a497     = np.array(amp_gb_l15_a497 + amp_it_l15_a497 + amp_ny_l15_a497)\n",
    "combined_values_l15_a497_min = combined_values_l15_a497.min()\n",
    "\n",
    "jenks_l15_a497  = mapclassify.NaturalBreaks(combined_values_l15_a497, k=9)\n",
    "breaks_l15_a497 = jenks_l15_a497.bins\n",
    "breaks_l15_a497 = np.insert(breaks_l15_a497, 0, combined_values_l15_a497_min)\n",
    "breaks_l15_a497"
   ]
  },
  {
   "cell_type": "code",
   "execution_count": null,
   "metadata": {},
   "outputs": [],
   "source": [
    "gb_l15_gdf.explore(\n",
    "    'a497', \n",
    "    cmap='inferno', \n",
    "    marker_type=\"circle_marker\",\n",
    "    scheme='UserDefined', \n",
    "    classification_kwds={\"bins\": breaks_l15_a497}, \n",
    "    legend_kwds={'interval': True},\n",
    "    marker_kwds={\"radius\": 3, \"fill\": True, \"fillOpacity\": 0.8, \"stroke\": False},\n",
    "    tooltip=[\"a497\", \"prompt\"],\n",
    "    tiles=\"CartoDB positron\"\n",
    ")"
   ]
  },
  {
   "cell_type": "code",
   "execution_count": null,
   "metadata": {},
   "outputs": [],
   "source": [
    "it_l15_gdf.explore(\n",
    "    'a497', \n",
    "    cmap='inferno', \n",
    "    marker_type=\"circle_marker\",\n",
    "    scheme='UserDefined', \n",
    "    classification_kwds={\"bins\": breaks_l15_a497}, \n",
    "    legend_kwds={'interval': True},\n",
    "    marker_kwds={\"radius\": 3, \"fill\": True, \"fillOpacity\": 0.8, \"stroke\": False},\n",
    "    tooltip=[\"a497\", \"prompt\"],\n",
    "    tiles=\"CartoDB positron\"\n",
    ")"
   ]
  },
  {
   "cell_type": "code",
   "execution_count": null,
   "metadata": {},
   "outputs": [],
   "source": [
    "ny_l15_gdf.explore(\n",
    "    'a497', \n",
    "    cmap='inferno', \n",
    "    marker_type=\"circle_marker\",\n",
    "    scheme='UserDefined', \n",
    "    classification_kwds={\"bins\": breaks_l15_a497}, \n",
    "    legend_kwds={'interval': True},\n",
    "    marker_kwds={\"radius\": 3, \"fill\": True, \"fillOpacity\": 0.8, \"stroke\": False},\n",
    "    tooltip=[\"a497\", \"prompt\"],\n",
    "    tiles=\"CartoDB positron\"\n",
    ")"
   ]
  },
  {
   "cell_type": "markdown",
   "metadata": {},
   "source": [
    "### Layer 15 Activation 1657"
   ]
  },
  {
   "cell_type": "code",
   "execution_count": null,
   "metadata": {},
   "outputs": [],
   "source": [
    "print(f'{gb_l15_gdf['a1657'].min()=:.3f}, {gb_l15_gdf['a1657'].max()=:.3f}')\n",
    "print(f'{it_l15_gdf['a1657'].min()=:.3f}, {it_l15_gdf['a1657'].max()=:.3f}')\n",
    "print(f'{ny_l15_gdf['a1657'].min()=:.3f}, {ny_l15_gdf['a1657'].max()=:.3f}')"
   ]
  },
  {
   "cell_type": "code",
   "execution_count": null,
   "metadata": {},
   "outputs": [],
   "source": [
    "amp_gb_l15_a1657 = gb_l15_gdf['a1657'].values.tolist()\n",
    "amp_it_l15_a1657 = it_l15_gdf['a1657'].values.tolist()\n",
    "amp_ny_l15_a1657 = ny_l15_gdf['a1657'].values.tolist()\n",
    "\n",
    "combined_values_l15_a1657     = np.array(amp_gb_l15_a1657 + amp_it_l15_a1657 + amp_ny_l15_a1657)\n",
    "combined_values_l15_a1657_min = combined_values_l15_a1657.min()\n",
    "\n",
    "jenks_l15_a1657  = mapclassify.NaturalBreaks(combined_values_l15_a1657, k=9)\n",
    "breaks_l15_a1657 = jenks_l15_a1657.bins\n",
    "breaks_l15_a1657 = np.insert(breaks_l15_a1657, 0, combined_values_l15_a1657_min)\n",
    "breaks_l15_a1657"
   ]
  },
  {
   "cell_type": "code",
   "execution_count": null,
   "metadata": {},
   "outputs": [],
   "source": [
    "gb_l15_gdf.explore(\n",
    "    'a1657', \n",
    "    cmap='inferno', \n",
    "    marker_type=\"circle_marker\",\n",
    "    scheme='UserDefined', \n",
    "    classification_kwds={\"bins\": breaks_l15_a1657}, \n",
    "    legend_kwds={'interval': True},\n",
    "    marker_kwds={\"radius\": 3, \"fill\": True, \"fillOpacity\": 0.8, \"stroke\": False},\n",
    "    tooltip=[\"a1657\", \"prompt\"],\n",
    "    tiles=\"CartoDB positron\"\n",
    ")"
   ]
  },
  {
   "cell_type": "code",
   "execution_count": null,
   "metadata": {},
   "outputs": [],
   "source": [
    "it_l15_gdf.explore(\n",
    "    'a1657', \n",
    "    cmap='inferno', \n",
    "    marker_type=\"circle_marker\",\n",
    "    scheme='UserDefined', \n",
    "    classification_kwds={\"bins\": breaks_l15_a1657}, \n",
    "    legend_kwds={'interval': True},\n",
    "    marker_kwds={\"radius\": 3, \"fill\": True, \"fillOpacity\": 0.8, \"stroke\": False},\n",
    "    tooltip=[\"a1657\", \"prompt\"],\n",
    "    tiles=\"CartoDB positron\"\n",
    ")"
   ]
  },
  {
   "cell_type": "code",
   "execution_count": null,
   "metadata": {},
   "outputs": [],
   "source": [
    "ny_l15_gdf.explore(\n",
    "    'a1657', \n",
    "    cmap='inferno', \n",
    "    marker_type=\"circle_marker\",\n",
    "    scheme='UserDefined', \n",
    "    classification_kwds={\"bins\": breaks_l15_a1657}, \n",
    "    legend_kwds={'interval': True},\n",
    "    marker_kwds={\"radius\": 3, \"fill\": True, \"fillOpacity\": 0.8, \"stroke\": False},\n",
    "    tooltip=[\"a1657\", \"prompt\"],\n",
    "    tiles=\"CartoDB positron\"\n",
    ")"
   ]
  },
  {
   "cell_type": "markdown",
   "metadata": {},
   "source": [
    "### Layer 31 Activation 1010"
   ]
  },
  {
   "cell_type": "code",
   "execution_count": null,
   "metadata": {},
   "outputs": [],
   "source": [
    "print(f'{gb_l31_gdf['a1010'].min()=:.3f}, {gb_l31_gdf['a1010'].max()=:.3f}')\n",
    "print(f'{it_l31_gdf['a1010'].min()=:.3f}, {it_l31_gdf['a1010'].max()=:.3f}')\n",
    "print(f'{ny_l31_gdf['a1010'].min()=:.3f}, {ny_l31_gdf['a1010'].max()=:.3f}')"
   ]
  },
  {
   "cell_type": "code",
   "execution_count": null,
   "metadata": {},
   "outputs": [],
   "source": [
    "amp_gb_l31_a1010 = gb_l31_gdf['a1010'].values.tolist()\n",
    "amp_it_l31_a1010 = it_l31_gdf['a1010'].values.tolist()\n",
    "amp_ny_l31_a1010 = ny_l31_gdf['a1010'].values.tolist()\n",
    "\n",
    "combined_values_l31_a1010     = np.array(amp_gb_l31_a1010 + amp_it_l31_a1010 + amp_ny_l31_a1010)\n",
    "combined_values_l31_a1010_min = combined_values_l31_a1010.min()\n",
    "\n",
    "jenks_l31_a1010  = mapclassify.NaturalBreaks(combined_values_l31_a1010, k=9)\n",
    "breaks_l31_a1010 = jenks_l31_a1010.bins\n",
    "breaks_l31_a1010 = np.insert(breaks_l31_a1010, 0, combined_values_l31_a1010_min)\n",
    "breaks_l31_a1010"
   ]
  },
  {
   "cell_type": "code",
   "execution_count": null,
   "metadata": {},
   "outputs": [],
   "source": [
    "gb_l31_gdf.explore(\n",
    "    'a1010', \n",
    "    cmap='inferno', \n",
    "    marker_type=\"circle_marker\",\n",
    "    scheme='UserDefined', \n",
    "    classification_kwds={\"bins\": breaks_l31_a1010}, \n",
    "    legend_kwds={'interval': True},\n",
    "    marker_kwds={\"radius\": 3, \"fill\": True, \"fillOpacity\": 0.8, \"stroke\": False},\n",
    "    tooltip=[\"a1010\", \"prompt\"],\n",
    "    tiles=\"CartoDB positron\"\n",
    ")"
   ]
  },
  {
   "cell_type": "code",
   "execution_count": null,
   "metadata": {},
   "outputs": [],
   "source": [
    "it_l31_gdf.explore(\n",
    "    'a1010', \n",
    "    cmap='inferno', \n",
    "    marker_type=\"circle_marker\",\n",
    "    scheme='UserDefined', \n",
    "    classification_kwds={\"bins\": breaks_l31_a1010}, \n",
    "    legend_kwds={'interval': True},\n",
    "    marker_kwds={\"radius\": 3, \"fill\": True, \"fillOpacity\": 0.8, \"stroke\": False},\n",
    "    tooltip=[\"a1010\", \"prompt\"],\n",
    "    tiles=\"CartoDB positron\"\n",
    ")"
   ]
  },
  {
   "cell_type": "code",
   "execution_count": null,
   "metadata": {},
   "outputs": [],
   "source": [
    "ny_l31_gdf.explore(\n",
    "    'a1010', \n",
    "    cmap='inferno', \n",
    "    marker_type=\"circle_marker\",\n",
    "    scheme='UserDefined', \n",
    "    classification_kwds={\"bins\": breaks_l31_a1010}, \n",
    "    legend_kwds={'interval': True},\n",
    "    marker_kwds={\"radius\": 3, \"fill\": True, \"fillOpacity\": 0.8, \"stroke\": False},\n",
    "    tooltip=[\"a1010\", \"prompt\"],\n",
    "    tiles=\"CartoDB positron\"\n",
    ")"
   ]
  }
 ],
 "metadata": {
  "kernelspec": {
   "display_name": "gds",
   "language": "python",
   "name": "python3"
  },
  "language_info": {
   "codemirror_mode": {
    "name": "ipython",
    "version": 3
   },
   "file_extension": ".py",
   "mimetype": "text/x-python",
   "name": "python",
   "nbconvert_exporter": "python",
   "pygments_lexer": "ipython3",
   "version": "3.12.9"
  }
 },
 "nbformat": 4,
 "nbformat_minor": 2
}
